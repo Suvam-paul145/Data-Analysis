{
 "cells": [
  {
   "cell_type": "code",
   "execution_count": null,
   "id": "b4680124",
   "metadata": {
    "id": "b4680124"
   },
   "outputs": [],
   "source": [
    "import numpy as np\n",
    "import pandas as pd"
   ]
  },
  {
   "cell_type": "code",
   "execution_count": 7,
   "id": "3690e145",
   "metadata": {
    "colab": {
     "base_uri": "https://localhost:8080/"
    },
    "id": "3690e145",
    "outputId": "b6ad8cfc-1d22-4e9c-c2a6-c8a84abb9ca3"
   },
   "outputs": [
    {
     "name": "stdout",
     "output_type": "stream",
     "text": [
      "[10 11 12 13 14 15 16 17 18 19 20 21 22 23 24 25 26 27 28 29 30 31 32 33\n",
      " 34 35 36 37 38 39 40 41 42 43 44 45 46 47 48 49 50]\n"
     ]
    }
   ],
   "source": [
    "# Create a 1D NumPy array with values from 10 to 50\n",
    "arr = np.array(range(10, 51))\n",
    "print(arr)"
   ]
  },
  {
   "cell_type": "code",
   "execution_count": 8,
   "id": "90ae1ae0",
   "metadata": {
    "colab": {
     "base_uri": "https://localhost:8080/"
    },
    "id": "90ae1ae0",
    "outputId": "f32328ec-1795-416f-f003-169d29e64a5c"
   },
   "outputs": [
    {
     "name": "stdout",
     "output_type": "stream",
     "text": [
      "[[74 22 56]\n",
      " [48 74 53]\n",
      " [23 21 95]]\n"
     ]
    }
   ],
   "source": [
    "#• Create a 3×3 matrix with random integers between 1 and 100\n",
    "arr = np.random.randint(1,100,size=(3,3) )\n",
    "print(arr)"
   ]
  },
  {
   "cell_type": "code",
   "execution_count": 9,
   "id": "f3515862",
   "metadata": {
    "colab": {
     "base_uri": "https://localhost:8080/"
    },
    "id": "f3515862",
    "outputId": "597d6186-5f9c-4ea5-ad57-eea27c18741e"
   },
   "outputs": [
    {
     "name": "stdout",
     "output_type": "stream",
     "text": [
      "Array: [20 87  1 47 75 61 50 38 44 53]\n",
      "Mean: 47.6\n",
      "Median: 48.5\n",
      "Standard Deviation: 23.57201730866495\n"
     ]
    }
   ],
   "source": [
    "# Find the mean, median, and standard deviation of the array in (1)\n",
    "\n",
    "import numpy as np\n",
    "\n",
    "# Generate a random array with 10 values\n",
    "arr = np.random.randint(1, 100, size=10)  # Random integers between 1 and 99\n",
    "print(\"Array:\", arr)\n",
    "\n",
    "# Mean\n",
    "mean_val = np.mean(arr)\n",
    "print(\"Mean:\", mean_val)\n",
    "\n",
    "# Median\n",
    "median_val = np.median(arr)\n",
    "print(\"Median:\", median_val)\n",
    "\n",
    "# Standard Deviation\n",
    "std_val = np.std(arr)\n",
    "print(\"Standard Deviation:\", std_val)"
   ]
  },
  {
   "cell_type": "code",
   "execution_count": 10,
   "id": "rqrtSf1FzuoO",
   "metadata": {
    "colab": {
     "base_uri": "https://localhost:8080/"
    },
    "id": "rqrtSf1FzuoO",
    "outputId": "5e134f1b-475b-41cf-96ba-495708f307ad"
   },
   "outputs": [
    {
     "name": "stdout",
     "output_type": "stream",
     "text": [
      "Original Array: [67 48 67 17 99 87 52 30 46 72]\n",
      "Modified Array (odds replaced with -1): [-1 48 -1 -1 -1 -1 52 30 46 72]\n"
     ]
    }
   ],
   "source": [
    "import numpy as np\n",
    "\n",
    "#Replace all odd numbers in the array with -1\n",
    "\n",
    "# Generate a random array\n",
    "arr = np.random.randint(1, 100, size=10)\n",
    "print(\"Original Array:\", arr)\n",
    "\n",
    "# Replace odd numbers with -1\n",
    "arr[arr % 2 == 1] = -1\n",
    "print(\"Modified Array (odds replaced with -1):\", arr)\n",
    "\n",
    "arr = np.random.randint(0,100)"
   ]
  },
  {
   "cell_type": "code",
   "execution_count": null,
   "id": "YUMa8AcYzz6G",
   "metadata": {
    "id": "YUMa8AcYzz6G"
   },
   "outputs": [],
   "source": []
  },
  {
   "cell_type": "code",
   "execution_count": 11,
   "id": "pTOILNZ2z0jO",
   "metadata": {
    "colab": {
     "base_uri": "https://localhost:8080/"
    },
    "id": "pTOILNZ2z0jO",
    "outputId": "73e4a851-38dc-463c-c98f-9845e761a480"
   },
   "outputs": [
    {
     "ename": "SyntaxError",
     "evalue": "invalid syntax (1051827501.py, line 1)",
     "output_type": "error",
     "traceback": [
      "\u001b[1;36m  Cell \u001b[1;32mIn[11], line 1\u001b[1;36m\u001b[0m\n\u001b[1;33m    -# Reshape the 3×3 matrix into a 1×9 array\u001b[0m\n\u001b[1;37m     ^\u001b[0m\n\u001b[1;31mSyntaxError\u001b[0m\u001b[1;31m:\u001b[0m invalid syntax\n"
     ]
    }
   ],
   "source": [
    "-# Reshape the 3×3 matrix into a 1×9 array\n",
    "reshaped_array = arr.reshape(1,10)\n",
    "print(reshaped_array)"
   ]
  },
  {
   "cell_type": "code",
   "execution_count": null,
   "id": "66tIODUWz0f1",
   "metadata": {
    "id": "66tIODUWz0f1"
   },
   "outputs": [
    {
     "name": "stdout",
     "output_type": "stream",
     "text": [
      "Mask: [False  True False  True  True False  True]\n",
      "Elements > 25: [38 42 27 60]\n"
     ]
    }
   ],
   "source": [
    "# Find all elements greater than 25 in your array\n",
    "import numpy as np\n",
    "\n",
    "# Your existing array (replace with yours)\n",
    "arr = np.array([12, 38, 5, 42, 27, 19, 60])\n",
    "\n",
    "# Boolean mask of elements > 25\n",
    "mask = arr > 25\n",
    "\n",
    "# Elements greater than 25\n",
    "greater_than_25 = arr[mask]\n",
    "\n",
    "print(\"Mask:\", mask)                    # [False  True False  True  True False  True]\n",
    "print(\"Elements > 25:\", greater_than_25) # [38 42 27 60]\n"
   ]
  },
  {
   "cell_type": "code",
   "execution_count": null,
   "id": "Pi7ErbYkz0Z9",
   "metadata": {
    "id": "Pi7ErbYkz0Z9"
   },
   "outputs": [
    {
     "ename": "_IncompleteInputError",
     "evalue": "incomplete input (3136549915.py, line 15)",
     "output_type": "error",
     "traceback": [
      "\u001b[1;36m  Cell \u001b[1;32mIn[8], line 15\u001b[1;36m\u001b[0m\n\u001b[1;33m    \u001b[0m\n\u001b[1;37m    ^\u001b[0m\n\u001b[1;31m_IncompleteInputError\u001b[0m\u001b[1;31m:\u001b[0m incomplete input\n"
     ]
    }
   ],
   "source": [
    "#• Count how many elements are divisible by 5\n",
    "import numpy as np\n",
    "\n",
    "# Your array (replace with your own variable if it already exists)\n",
    "arr = np.array([12, 38, 5, 42, 27, 19, 60, 75])\n",
    "\n",
    "# Boolean mask for “divisible by 5”\n",
    "mask = (arr % 5 == 0)\n",
    "\n",
    "# Count how many\n",
    "count_div_by_5 = np.sum(mask)\n",
    "\n",
    "print(\"Mask:\", mask)                 # [False False  True False False False  True  True]\n",
    "print(\"Total divisible by 5:\", c\n",
    "\n"
   ]
  },
  {
   "cell_type": "code",
   "execution_count": null,
   "id": "FjAAzshuz0Me",
   "metadata": {
    "id": "FjAAzshuz0Me"
   },
   "outputs": [],
   "source": []
  },
  {
   "cell_type": "code",
   "execution_count": null,
   "id": "XU3oACmX0tPO",
   "metadata": {
    "id": "XU3oACmX0tPO"
   },
   "outputs": [
    {
     "ename": "SyntaxError",
     "evalue": "unmatched ']' (2382685811.py, line 2)",
     "output_type": "error",
     "traceback": [
      "\u001b[1;36m  Cell \u001b[1;32mIn[10], line 2\u001b[1;36m\u001b[0m\n\u001b[1;33m    'D', 'E']\u001b[0m\n\u001b[1;37m            ^\u001b[0m\n\u001b[1;31mSyntaxError\u001b[0m\u001b[1;31m:\u001b[0m unmatched ']'\n"
     ]
    }
   ],
   "source": [
    "# Create a Series scores with values: [87, 45, 92, 67, 55], and index as ['A', 'B', 'C',\n",
    "'D', 'E']\n",
    "\n",
    "import pandas as pd\n",
    "\n",
    "scores = pd.Series([87, 45, 92, 67, 55], index=['A', 'B', 'C', 'D', 'E'])\n",
    "print(scores)\n"
   ]
  },
  {
   "cell_type": "code",
   "execution_count": null,
   "id": "6AdsdaEI0tMF",
   "metadata": {
    "id": "6AdsdaEI0tMF"
   },
   "outputs": [],
   "source": [
    "# #Create a DataFrame students with columns:\n",
    "# o 'Name': ['Alice', 'Bob', 'Charlie', 'David', 'Eva']\n",
    "# o 'Math': [87, 45, 92, 67, 55]\n",
    "# o 'Science': [78, 66, 80, 72, 60]\n",
    "\n",
    "import pandas as pd\n",
    "\n",
    "students = pd.DataFrame({\n",
    "    'Name':    ['Alice', 'Bob', 'Charlie', 'David', 'Eva'],\n",
    "    'Math':    [87, 45, 92, 67, 55],\n",
    "    'Science': [78, 66, 80, 72, 60]\n",
    "})\n",
    "\n",
    "print(students)\n"
   ]
  },
  {
   "cell_type": "code",
   "execution_count": null,
   "id": "WBCHYU520tI2",
   "metadata": {
    "id": "WBCHYU520tI2"
   },
   "outputs": [],
   "source": [
    "#• Add a new column \"Average\" = average of Math and Science scores\n",
    "import pandas as pd\n",
    "\n",
    "# Existing DataFrame\n",
    "students = pd.DataFrame({\n",
    "    'Name':    ['Alice', 'Bob', 'Charlie', 'David', 'Eva'],\n",
    "    'Math':    [87, 45, 92, 67, 55],\n",
    "    'Science': [78, 66, 80, 72, 60]\n",
    "})\n",
    "\n",
    "# Add the \"Average\" column\n",
    "students['Average'] = (students['Math'] + students['Science']) / 2\n",
    "\n",
    "print(students)\n"
   ]
  },
  {
   "cell_type": "code",
   "execution_count": null,
   "id": "nyU_g4fR0tGO",
   "metadata": {
    "id": "nyU_g4fR0tGO"
   },
   "outputs": [],
   "source": [
    "#• Sort the DataFrame by \"Average\" in descending order\n",
    "# Sort by 'Average' in descending order\n",
    "students_sorted = students.sort_values(by='Average', ascending=False)\n",
    "\n",
    "print(students_sorted)\n"
   ]
  },
  {
   "cell_type": "code",
   "execution_count": null,
   "id": "bMAGMdJ_0tDN",
   "metadata": {
    "id": "bMAGMdJ_0tDN"
   },
   "outputs": [],
   "source": [
    "# • Filter students who scored more than 70 in both subjects\n",
    "high_scorers = students[(students['Math'] > 70) & (students['Science'] > 70)]\n",
    "\n",
    "print(high_scorers)\n"
   ]
  },
  {
   "cell_type": "code",
   "execution_count": null,
   "id": "T1fplvfF0tBl",
   "metadata": {
    "id": "T1fplvfF0tBl"
   },
   "outputs": [],
   "source": [
    "# Add a new row with missing values (e.g., name: 'Frank', Math: NaN, Science:\n",
    "# NaN)\n",
    "\n",
    "import numpy as np\n",
    "import pandas as pd\n",
    "\n",
    "# Existing DataFrame\n",
    "students = pd.DataFrame({\n",
    "    'Name':    ['Alice', 'Bob', 'Charlie', 'David', 'Eva'],\n",
    "    'Math':    [87, 45, 92, 67, 55],\n",
    "    'Science': [78, 66, 80, 72, 60]\n",
    "})\n",
    "\n",
    "# Add Average column\n",
    "students['Average'] = (students['Math'] + students['Science']) / 2\n",
    "\n",
    "# New row with missing values\n",
    "new_row = pd.DataFrame([{\n",
    "    'Name': 'Frank',\n",
    "    'Math': np.nan,\n",
    "    'Science': np.nan,\n",
    "    'Average': np.nan\n",
    "}])\n",
    "\n",
    "# Add the row to the DataFrame\n",
    "students = pd.concat([students, new_row], ignore_index=True)\n",
    "\n",
    "print(students)\n"
   ]
  },
  {
   "cell_type": "code",
   "execution_count": null,
   "id": "H-P_p47q0s7V",
   "metadata": {
    "id": "H-P_p47q0s7V"
   },
   "outputs": [],
   "source": [
    "#• Fill missing values with column means\n",
    "import pandas as pd\n",
    "import numpy as np\n",
    "\n",
    "# Original DataFrame with missing row (e.g., Frank)\n",
    "students = pd.DataFrame({\n",
    "    'Name':    ['Alice', 'Bob', 'Charlie', 'David', 'Eva', 'Frank'],\n",
    "    'Math':    [87, 45, 92, 67, 55, np.nan],\n",
    "    'Science': [78, 66, 80, 72, 60, np.nan],\n",
    "    'Average': [82.5, 55.5, 86.0, 69.5, 57.5, np.nan]\n",
    "})\n",
    "\n",
    "# Fill missing values with column means\n",
    "students[['Math', 'Science', 'Average']] = students[['Math', 'Science', 'Average']].fillna(\n",
    "    students[['Math', 'Science', 'Average']].mean()\n",
    ")\n",
    "\n",
    "print(students)\n"
   ]
  },
  {
   "cell_type": "code",
   "execution_count": null,
   "id": "y_XRZUzQ0s4e",
   "metadata": {
    "id": "y_XRZUzQ0s4e"
   },
   "outputs": [],
   "source": [
    "#• Drop rows with any remaining NaN (if any)\n",
    "# Drop rows with any remaining NaN values\n",
    "students.dropna(inplace=True)\n",
    "\n",
    "print(students)\n"
   ]
  },
  {
   "cell_type": "code",
   "execution_count": null,
   "id": "PjxRre4t2vMF",
   "metadata": {
    "id": "PjxRre4t2vMF"
   },
   "outputs": [],
   "source": [
    "# @title Cleaning data"
   ]
  }
 ],
 "metadata": {
  "colab": {
   "provenance": []
  },
  "kernelspec": {
   "display_name": "base",
   "language": "python",
   "name": "python3"
  },
  "language_info": {
   "codemirror_mode": {
    "name": "ipython",
    "version": 3
   },
   "file_extension": ".py",
   "mimetype": "text/x-python",
   "name": "python",
   "nbconvert_exporter": "python",
   "pygments_lexer": "ipython3",
   "version": "3.13.5"
  }
 },
 "nbformat": 4,
 "nbformat_minor": 5
}
