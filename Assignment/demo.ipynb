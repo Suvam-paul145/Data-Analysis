{
 "cells": [
  {
   "cell_type": "code",
   "execution_count": null,
   "id": "343246ae",
   "metadata": {},
   "outputs": [],
   "source": []
  },
  {
   "cell_type": "code",
   "execution_count": 9,
   "id": "809495b4",
   "metadata": {},
   "outputs": [],
   "source": [
    "import numpy as np\n",
    "import pandas as pd"
   ]
  },
  {
   "cell_type": "code",
   "execution_count": 10,
   "id": "a3ad38e5",
   "metadata": {},
   "outputs": [],
   "source": [
    "students = pd.DataFrame({\n",
    "    'Name':    ['Alice', 'Bob', 'Charlie', 'David', 'Eva'],\n",
    "    'Math':    [87, 45, 92, 67, 55],\n",
    "    'Science': [78, 66, 80, 72, 60]\n",
    "})"
   ]
  },
  {
   "cell_type": "code",
   "execution_count": 11,
   "id": "615e3037",
   "metadata": {},
   "outputs": [],
   "source": [
    "students['Average'] = (students['Math'] + students['Science']) / 2"
   ]
  },
  {
   "cell_type": "code",
   "execution_count": null,
   "id": "f1d63be1",
   "metadata": {},
   "outputs": [
    {
     "name": "stdout",
     "output_type": "stream",
     "text": [
      "      Name  Math  Science  Average\n",
      "0    Alice  87.0     78.0     82.5\n",
      "1      Bob  45.0     66.0     55.5\n",
      "2  Charlie  92.0     80.0     86.0\n",
      "3    David  67.0     72.0     69.5\n",
      "4      Eva  55.0     60.0     57.5\n",
      "0    Frank   NaN      NaN      NaN\n"
     ]
    }
   ],
   "source": [
    "new_row = pd.DataFrame([{\n",
    "    'Name': 'Frank',\n",
    "    'Math': np.nan,\n",
    "    'Science': np.nan,\n",
    "    'Average': np.nan\n",
    "}])\n",
    "\n",
    "# Add the row to the DataFrame\n",
    "students = pd.concat([students, new_row])\n",
    "\n",
    "print(students)"
   ]
  },
  {
   "cell_type": "code",
   "execution_count": null,
   "id": "c1faf5ab",
   "metadata": {},
   "outputs": [],
   "source": []
  },
  {
   "cell_type": "code",
   "execution_count": null,
   "id": "ae6ae78d",
   "metadata": {},
   "outputs": [],
   "source": []
  },
  {
   "cell_type": "code",
   "execution_count": null,
   "id": "0d5d89b3",
   "metadata": {},
   "outputs": [],
   "source": []
  }
 ],
 "metadata": {
  "kernelspec": {
   "display_name": "base",
   "language": "python",
   "name": "python3"
  },
  "language_info": {
   "codemirror_mode": {
    "name": "ipython",
    "version": 3
   },
   "file_extension": ".py",
   "mimetype": "text/x-python",
   "name": "python",
   "nbconvert_exporter": "python",
   "pygments_lexer": "ipython3",
   "version": "3.13.5"
  }
 },
 "nbformat": 4,
 "nbformat_minor": 5
}
