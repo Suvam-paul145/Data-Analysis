{
  "cells": [
    {
      "cell_type": "markdown",
      "metadata": {
        "id": "FSEGTYjTpwuT"
      },
      "source": [
        "# Array Initialization"
      ]
    },
    {
      "cell_type": "code",
      "execution_count": 3,
      "metadata": {
        "id": "qgoSrraBp7eU"
      },
      "outputs": [],
      "source": [
        "import numpy as np"
      ]
    },
    {
      "cell_type": "code",
      "execution_count": 2,
      "metadata": {
        "colab": {
          "base_uri": "https://localhost:8080/"
        },
        "id": "3nFUh9rypkke",
        "outputId": "7d74e0cc-ef9d-4d14-f3ea-67912745c5dc"
      },
      "outputs": [
        {
          "data": {
            "text/plain": [
              "array([[0., 0., 0.],\n",
              "       [0., 0., 0.]])"
            ]
          },
          "execution_count": 2,
          "metadata": {},
          "output_type": "execute_result"
        }
      ],
      "source": [
        "np.zeros((2,3))"
      ]
    },
    {
      "cell_type": "code",
      "execution_count": 6,
      "metadata": {
        "colab": {
          "base_uri": "https://localhost:8080/"
        },
        "id": "mol3NgEnrpeT",
        "outputId": "d066d083-ece9-4685-9d25-45d74a9516ef"
      },
      "outputs": [
        {
          "data": {
            "text/plain": [
              "array([[[1, 1],\n",
              "        [1, 1]],\n",
              "\n",
              "       [[1, 1],\n",
              "        [1, 1]],\n",
              "\n",
              "       [[1, 1],\n",
              "        [1, 1]],\n",
              "\n",
              "       [[1, 1],\n",
              "        [1, 1]]], dtype=int32)"
            ]
          },
          "execution_count": 6,
          "metadata": {},
          "output_type": "execute_result"
        }
      ],
      "source": [
        "np.ones((4,2,2), dtype='int32')"
      ]
    },
    {
      "cell_type": "code",
      "execution_count": 5,
      "metadata": {
        "colab": {
          "base_uri": "https://localhost:8080/"
        },
        "id": "YojtGuaTruWa",
        "outputId": "00010e93-3755-4a17-c2af-b10be992f5e0"
      },
      "outputs": [
        {
          "data": {
            "text/plain": [
              "array([[99, 99],\n",
              "       [99, 99]])"
            ]
          },
          "execution_count": 5,
          "metadata": {},
          "output_type": "execute_result"
        }
      ],
      "source": [
        "np.full((2,2), 99)"
      ]
    },
    {
      "cell_type": "code",
      "execution_count": null,
      "metadata": {
        "colab": {
          "base_uri": "https://localhost:8080/"
        },
        "id": "hBHWJu7trzKP",
        "outputId": "87b241cb-360f-4701-ade2-24b42ecea127"
      },
      "outputs": [],
      "source": [
        "np.random.rand(4,2)"
      ]
    },
    {
      "cell_type": "code",
      "execution_count": null,
      "metadata": {
        "colab": {
          "base_uri": "https://localhost:8080/"
        },
        "id": "m3ZJJuXkr942",
        "outputId": "19df3be7-d367-4741-ca43-7c099f9c77e1"
      },
      "outputs": [],
      "source": [
        "np.random.randint(-4,8, size=(3,3))"
      ]
    },
    {
      "cell_type": "code",
      "execution_count": null,
      "metadata": {
        "colab": {
          "base_uri": "https://localhost:8080/"
        },
        "id": "Vty4w0iNsY4v",
        "outputId": "c4450523-2aaa-4dd6-e4c6-917e33166766"
      },
      "outputs": [],
      "source": [
        "np.identity(5)"
      ]
    },
    {
      "cell_type": "code",
      "execution_count": null,
      "metadata": {
        "colab": {
          "base_uri": "https://localhost:8080/"
        },
        "id": "VEBRX5uPscxq",
        "outputId": "29ccc7ad-7a5f-473d-868f-118c6637930c"
      },
      "outputs": [],
      "source": [
        "arr = np.array([[1,2,3]])\n",
        "r1 = np.repeat(arr,3, axis=0)\n",
        "print(r1)"
      ]
    },
    {
      "cell_type": "code",
      "execution_count": null,
      "metadata": {
        "colab": {
          "base_uri": "https://localhost:8080/"
        },
        "id": "pJ_xUpa4shYB",
        "outputId": "8789e450-3f37-4a8b-8988-af0cb5e3fbff"
      },
      "outputs": [],
      "source": [
        "output = np.ones((5,5))\n",
        "print(output)\n",
        "\n",
        "z = np.zeros((3,3))\n",
        "z[1,1] = 9\n",
        "print(z)\n",
        "\n",
        "output[1:-1,1:-1] = z\n",
        "print(output)"
      ]
    },
    {
      "cell_type": "code",
      "execution_count": null,
      "metadata": {
        "colab": {
          "base_uri": "https://localhost:8080/"
        },
        "id": "-YDY8Be2ssoq",
        "outputId": "99ddb922-87e7-430a-972c-8e3b59614c46"
      },
      "outputs": [],
      "source": [
        "a = np.array([1,2,3])\n",
        "b = a.copy()\n",
        "b[0] = 100\n",
        "\n",
        "print(a)"
      ]
    },
    {
      "cell_type": "code",
      "execution_count": null,
      "metadata": {
        "colab": {
          "base_uri": "https://localhost:8080/"
        },
        "id": "IwSTDmOkmECz",
        "outputId": "6086c5a5-a86a-4bd6-9ae9-a8bd40af54cc"
      },
      "outputs": [],
      "source": [
        "a = np.array([[1,2,3,4],[2,3,5,6]])\n",
        "b = np.array([[1,0,1,0],[6,7,8,9]])\n",
        "c = np.concatenate((a,b), axis=1)\n",
        "print(c)"
      ]
    },
    {
      "cell_type": "code",
      "execution_count": null,
      "metadata": {
        "colab": {
          "base_uri": "https://localhost:8080/",
          "height": 200
        },
        "id": "t-ysIp_vmfCu",
        "outputId": "afe8fced-c70f-49ac-9416-78f70142b448"
      },
      "outputs": [],
      "source": [
        "a = np.array([[1,2,3,4],[2,3,5,6]])\n",
        "b = np.array([[1,0,1,0],[6,7,8,9]])\n",
        "c = np.stack((a,b)) #stack\n",
        "print(c)"
      ]
    },
    {
      "cell_type": "code",
      "execution_count": null,
      "metadata": {
        "colab": {
          "base_uri": "https://localhost:8080/"
        },
        "id": "ZLFmfTRYpMU6",
        "outputId": "ba2d33bb-e509-406b-8bbe-da9cb042d87e"
      },
      "outputs": [],
      "source": [
        "a = np.array([1,2,3,4,5,6,7,8])\n",
        "array_split = np.split(a, 2)\n",
        "print(array_split)\n",
        "print(array_split[:1])"
      ]
    },
    {
      "cell_type": "code",
      "execution_count": null,
      "metadata": {
        "colab": {
          "base_uri": "https://localhost:8080/",
          "height": 327
        },
        "id": "RTl3cYpmqUnZ",
        "outputId": "bb98969a-6c0d-4098-a504-d8dec211bf35"
      },
      "outputs": [],
      "source": [
        "arr = np.array([1,2,3,4,5,6])\n",
        "x = np.where(arr == 4)\n",
        "print(x)\n",
        "\n",
        "y = np.where(arr%2==0)\n",
        "print(y)\n",
        "\n",
        "z = np.searchsorted(arr, 7)\n",
        "print(z)"
      ]
    },
    {
      "cell_type": "code",
      "execution_count": null,
      "metadata": {
        "colab": {
          "base_uri": "https://localhost:8080/"
        },
        "id": "r0Uc4HhDqThx",
        "outputId": "68a9eb82-a0a2-4cca-be01-65221a6ab48b"
      },
      "outputs": [],
      "source": [
        "from re import M\n",
        "arr = np.array([1,2,4,3,5,6],)\n",
        "x = np.where(arr == 4)\n",
        "print(x)\n",
        "\n",
        "y = np.where(arr%2==0)\n",
        "print(y)\n",
        "\n",
        "z = np.searchsorted(arr, 7)\n",
        "print(z)\n",
        "m= np.sort(arr)\n",
        "print(m)"
      ]
    },
    {
      "cell_type": "code",
      "execution_count": null,
      "metadata": {
        "colab": {
          "base_uri": "https://localhost:8080/"
        },
        "id": "W6AvFtgnqVlJ",
        "outputId": "0166bf4f-3060-4403-eb4d-7982acafbb56"
      },
      "outputs": [],
      "source": [
        "x = np.random.randint(90,100)\n",
        "print(x)"
      ]
    },
    {
      "cell_type": "code",
      "execution_count": null,
      "metadata": {
        "colab": {
          "base_uri": "https://localhost:8080/"
        },
        "id": "8kuQXUITvHhy",
        "outputId": "a19bb22a-50ae-4a99-a6e3-729e03f77ae6"
      },
      "outputs": [],
      "source": [
        "x = np.random.randint(10, size=(5))\n",
        "print(x)"
      ]
    }
  ],
  "metadata": {
    "colab": {
      "provenance": []
    },
    "kernelspec": {
      "display_name": "myenv",
      "language": "python",
      "name": "python3"
    },
    "language_info": {
      "codemirror_mode": {
        "name": "ipython",
        "version": 3
      },
      "file_extension": ".py",
      "mimetype": "text/x-python",
      "name": "python",
      "nbconvert_exporter": "python",
      "pygments_lexer": "ipython3",
      "version": "3.13.2"
    }
  },
  "nbformat": 4,
  "nbformat_minor": 0
}
