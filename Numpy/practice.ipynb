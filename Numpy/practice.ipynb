{
 "cells": [
  {
   "cell_type": "code",
   "execution_count": 28,
   "id": "63da4985",
   "metadata": {},
   "outputs": [],
   "source": [
    "import numpy as np"
   ]
  },
  {
   "cell_type": "code",
   "execution_count": 29,
   "id": "c0c833ff",
   "metadata": {},
   "outputs": [
    {
     "name": "stdout",
     "output_type": "stream",
     "text": [
      "[10 11 12 13 14 15 16 17 18 19 20 21 22 23 24 25 26 27 28 29 30 31 32 33\n",
      " 34 35 36 37 38 39 40 41 42 43 44 45 46 47 48 49 50]\n"
     ]
    }
   ],
   "source": [
    "arr = np.arange(10,51)  # make a array of element \n",
    "print(arr)"
   ]
  },
  {
   "cell_type": "code",
   "execution_count": 30,
   "id": "6df0356b",
   "metadata": {},
   "outputs": [
    {
     "name": "stdout",
     "output_type": "stream",
     "text": [
      "[16 27 29 26 19 15 19 44 27 31]\n",
      "[[[[[152  19]\n",
      "    [305  42]]\n",
      "\n",
      "   [[122 298]\n",
      "    [387 215]]]\n",
      "\n",
      "\n",
      "  [[[260 209]\n",
      "    [255 249]]\n",
      "\n",
      "   [[ 42  48]\n",
      "    [167 183]]]\n",
      "\n",
      "\n",
      "  [[[508 211]\n",
      "    [404 122]]\n",
      "\n",
      "   [[485 169]\n",
      "    [444  37]]]]\n",
      "\n",
      "\n",
      "\n",
      " [[[[493  58]\n",
      "    [ 95 323]]\n",
      "\n",
      "   [[459 507]\n",
      "    [122 494]]]\n",
      "\n",
      "\n",
      "  [[[356 100]\n",
      "    [391  18]]\n",
      "\n",
      "   [[157 497]\n",
      "    [260 206]]]\n",
      "\n",
      "\n",
      "  [[[371 237]\n",
      "    [ 59 225]]\n",
      "\n",
      "   [[166 446]\n",
      "    [295 398]]]]\n",
      "\n",
      "\n",
      "\n",
      " [[[[448 201]\n",
      "    [453 357]]\n",
      "\n",
      "   [[477 135]\n",
      "    [251 184]]]\n",
      "\n",
      "\n",
      "  [[[161  15]\n",
      "    [ 59 224]]\n",
      "\n",
      "   [[139 332]\n",
      "    [481 180]]]\n",
      "\n",
      "\n",
      "  [[[253 446]\n",
      "    [255 342]]\n",
      "\n",
      "   [[317  97]\n",
      "    [116 446]]]]]\n"
     ]
    }
   ],
   "source": [
    "arr= np.random.randint(10,51,size =10)\n",
    "print(arr)\n",
    "\n",
    "arr= np.random.randint(10,512,size =(3,3,2,2,2))\n",
    "print(arr)"
   ]
  },
  {
   "cell_type": "code",
   "execution_count": 31,
   "id": "f283a6c8",
   "metadata": {},
   "outputs": [
    {
     "name": "stdout",
     "output_type": "stream",
     "text": [
      "[[26 30 37 37 17 39 22 32 48 16]]\n",
      "[[26 30 37 37 17]\n",
      " [39 22 32 48 16]]\n"
     ]
    }
   ],
   "source": [
    "arr = np.random.randint(10,50,size = (1,10))\n",
    "print(arr)\n",
    "\n",
    "reshaped_array = arr.reshape(2,5)\n",
    "print(reshaped_array)"
   ]
  },
  {
   "cell_type": "code",
   "execution_count": 32,
   "id": "45231fb2",
   "metadata": {},
   "outputs": [
    {
     "name": "stdout",
     "output_type": "stream",
     "text": [
      "[[ 2 68 65 91 74]\n",
      " [43 10 38 69 64]\n",
      " [91 27 67  5 44]\n",
      " [38 19 93 25 20]]\n",
      "\n",
      "[[68 91]\n",
      " [10 69]\n",
      " [27  5]\n",
      " [19 25]]\n"
     ]
    }
   ],
   "source": [
    "rand_arr = np.random.randint(1, 101, 20) \n",
    "mat_5x5 = np.arange(1, 26).reshape(5,5) \n",
    "mat_4x5 = rand_arr.reshape(4,5) \n",
    "print(mat_4x5,end=\"\\n\\n\")\n",
    "cols = mat_4x5[:, [1,3]]  # 2nd and 4th columns\n",
    "print(cols)"
   ]
  },
  {
   "cell_type": "code",
   "execution_count": null,
   "id": "691a12bc",
   "metadata": {},
   "outputs": [
    {
     "name": "stdout",
     "output_type": "stream",
     "text": [
      "[257 151  12 307 396 188 402 459 498 314  79 404 206 400 111  76 222 139\n",
      " 194 149 257  36 265 378 473 287  10 158 424 297 296 285  40 341  15  55\n",
      " 248 355 284  17 312  95 432 346 420 145 270 472 472 129]\n",
      "400\n",
      "265\n",
      "10\n",
      "285\n",
      "40\n",
      "15\n",
      "55\n",
      "355\n",
      "95\n",
      "420\n",
      "145\n",
      "270\n"
     ]
    }
   ],
   "source": [
    "import numpy as np\n",
    "arr = np.random.randint(10,500,size = (50))\n",
    "print(arr)\n",
    "\n",
    "for i in arr:\n",
    "    if i%5 ==0:\n",
    "        print(i)"
   ]
  },
  {
   "cell_type": "code",
   "execution_count": 6,
   "id": "702cd22d",
   "metadata": {},
   "outputs": [
    {
     "name": "stdout",
     "output_type": "stream",
     "text": [
      "[[[296 322  32 271 402  19 195 254 221 312 422  65 481 488 182  77 135\n",
      "   386 467 382 104  58 198 156 155 300 427  80 370 334 482  46 297 416\n",
      "    45 467  30  81 242 365 289 128 210 172 401  85  26 304  53  85]\n",
      "  [224 491  44  57 119 420 218 431 473 356 368 103 347 393  13 419 254\n",
      "   127 160 393  75  66 205 129  43 117 164 237 252 382 267 374 241 286\n",
      "   313 370 267 126 463 463  81 454  12 200  93 329  20  42 106 219]]]\n",
      "[296 322  32 271 402  19 195 254 221 312 422  65 481 488 182  77 135 386\n",
      " 467 382 104  58 198 156 155 300 427  80 370 334 482  46 297 416  45 467\n",
      "  30  81 242 365 289 128 210 172 401  85  26 304  53  85 224 491  44  57\n",
      " 119 420 218 431 473 356 368 103 347 393  13 419 254 127 160 393  75  66\n",
      " 205 129  43 117 164 237 252 382 267 374 241 286 313 370 267 126 463 463\n",
      "  81 454  12 200  93 329  20  42 106 219]\n"
     ]
    }
   ],
   "source": [
    "import numpy as np\n",
    "arr = np.random.randint(10,500,size = (1,2,50))\n",
    "print(arr)\n",
    "\n",
    "new_1D_arr = arr.flatten()\n",
    "print(new_1D_arr)"
   ]
  }
 ],
 "metadata": {
  "kernelspec": {
   "display_name": "base",
   "language": "python",
   "name": "python3"
  },
  "language_info": {
   "codemirror_mode": {
    "name": "ipython",
    "version": 3
   },
   "file_extension": ".py",
   "mimetype": "text/x-python",
   "name": "python",
   "nbconvert_exporter": "python",
   "pygments_lexer": "ipython3",
   "version": "3.13.5"
  }
 },
 "nbformat": 4,
 "nbformat_minor": 5
}
